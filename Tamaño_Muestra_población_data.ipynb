{
  "nbformat": 4,
  "nbformat_minor": 0,
  "metadata": {
    "colab": {
      "provenance": [],
      "authorship_tag": "ABX9TyPF5ZQsBOGTAyifoTyZfIeQ",
      "include_colab_link": true
    },
    "kernelspec": {
      "name": "python3",
      "display_name": "Python 3"
    },
    "language_info": {
      "name": "python"
    }
  },
  "cells": [
    {
      "cell_type": "markdown",
      "metadata": {
        "id": "view-in-github",
        "colab_type": "text"
      },
      "source": [
        "<a href=\"https://colab.research.google.com/github/NCarrasco/AdminLTE/blob/master/Tama%C3%B1o_Muestra_poblaci%C3%B3n_data.ipynb\" target=\"_parent\"><img src=\"https://colab.research.google.com/assets/colab-badge.svg\" alt=\"Open In Colab\"/></a>"
      ]
    },
    {
      "cell_type": "code",
      "execution_count": 1,
      "metadata": {
        "colab": {
          "base_uri": "https://localhost:8080/"
        },
        "id": "R62xoKlJRBu6",
        "outputId": "71e753a7-75fd-44bf-d82d-5c5751a5234a"
      },
      "outputs": [
        {
          "output_type": "stream",
          "name": "stdout",
          "text": [
            "Para una población de 100000, el tamaño de la muestra necesaria es: 383\n"
          ]
        }
      ],
      "source": [
        "import math\n",
        "\n",
        "def miMuestra (N, Z=1.96, p=0.5, e=0.05):\n",
        "    \"\"\"\n",
        "    Calcula el tamaño de la muestra necesario para una población dada.\n",
        "\n",
        "    Parámetros:\n",
        "    N  -> Tamaño de la población\n",
        "    Z  -> Valor Z para el nivel de confianza (1.96 para 95%)\n",
        "    p  -> Proporción esperada (0.5 por defecto si se desconoce)\n",
        "    e  -> Margen de error (0.05 para 5%)\n",
        "\n",
        "    Retorna:\n",
        "    n  -> Tamaño de la muestra necesaria\n",
        "    \"\"\"\n",
        "    numerador = N * (Z**2) * p * (1 - p)\n",
        "    denominador = (e**2) * (N - 1) + (Z**2) * p * (1 - p)\n",
        "    n = numerador / denominador\n",
        "\n",
        "    return math.ceil(n)  # Se redondea hacia arriba para asegurar cobertura\n",
        "\n",
        "# Supongamos una población de 100,000 personas\n",
        "N = 100000\n",
        "muestra_recomendada = miMuestra(N)\n",
        "\n",
        "print(f\"Para una población de {N}, el tamaño de la muestra necesaria es: {muestra_recomendada}\")\n"
      ]
    }
  ]
}